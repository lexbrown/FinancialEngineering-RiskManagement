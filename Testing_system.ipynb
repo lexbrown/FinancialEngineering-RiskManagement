{
 "cells": [
  {
   "cell_type": "code",
   "execution_count": 14,
   "metadata": {},
   "outputs": [],
   "source": [
    "import random\n",
    "import time"
   ]
  },
  {
   "cell_type": "markdown",
   "metadata": {},
   "source": [
    "# Варианты\n",
    "**Definition mode**<br>\n",
    "Это типа есть куча определений, надо выбрать верное<br>\n",
    "**Dictionary mode**<br>\n",
    "Это типа есть словарь, размеченный по частям речи. Выбрать Верный перевод<br>\n",
    "**Full test mode**<br>\n",
    "Это типа есть словарь, размеченный по частям речи. Выбрать Верный перевод<br>"
   ]
  },
  {
   "cell_type": "code",
   "execution_count": 2,
   "metadata": {},
   "outputs": [],
   "source": [
    "text = \"\"\"\n",
    "Чужая мамка - объект желаний\n",
    "\n",
    "Козёл - кто угодно, кто мне не нравится\n",
    "\n",
    "Лавэ - бабки\n",
    "\n",
    "Фуфляндия - Украина\n",
    "\n",
    "Las gafas - очки на испанском\n",
    "\n",
    "El gato - кот, тоже на испанском\n",
    "\"\"\"\n",
    "\n",
    "text = text.replace('\\n\\n', '*')\n",
    "text = text.replace('\\n', '')\n",
    "\n",
    "assert text.count(' - ') == len(text.split('*')) #проверка на число дефисов"
   ]
  },
  {
   "cell_type": "code",
   "execution_count": 3,
   "metadata": {},
   "outputs": [],
   "source": [
    "dic_pic = {i.split(' - ')[0]:i.split(' - ')[1] for i in text.split('*')}"
   ]
  },
  {
   "cell_type": "code",
   "execution_count": 10,
   "metadata": {},
   "outputs": [
    {
     "data": {
      "text/plain": [
       "{'Чужая мамка': 'объект желаний',\n",
       " 'Козёл': 'кто угодно, кто мне не нравится',\n",
       " 'Лавэ': 'бабки',\n",
       " 'Фуфляндия': 'Украина',\n",
       " 'Las gafas': 'очки на испанском',\n",
       " 'El gato': 'кот, тоже на испанском'}"
      ]
     },
     "execution_count": 10,
     "metadata": {},
     "output_type": "execute_result"
    }
   ],
   "source": [
    "dic_pic"
   ]
  },
  {
   "cell_type": "code",
   "execution_count": 4,
   "metadata": {},
   "outputs": [],
   "source": [
    "def question():\n",
    "    variants = random.sample(list(dic_pic.keys()), 3) #выбираем набор слов\n",
    "    term = random.choice(variants) #выбираем термин\n",
    "    list_of_values = [dic_pic[i] for i in variants] \n",
    "    new_dict = {i:j for i,j in zip(['a', 'b', 'c'], list_of_values)}\n",
    "    print('='*60, '\\n\\n\\n', term, ' - это...', '\\n\\n',\n",
    "          'A. ', new_dict['a'], '\\n',\n",
    "          'B. ', new_dict['b'], '\\n',\n",
    "          'C. ', new_dict['c'], '\\n')\n",
    "    answer = input().lower()\n",
    "    if new_dict[answer].upper() == dic_pic[term].upper():\n",
    "        print('Верно')\n",
    "    else:\n",
    "        print('Неверно. Правильный ответ ', dic_pic[term].upper())    "
   ]
  },
  {
   "cell_type": "code",
   "execution_count": 5,
   "metadata": {},
   "outputs": [
    {
     "name": "stdout",
     "output_type": "stream",
     "text": [
      "============================================================ \n",
      "\n",
      "\n",
      " Фуфляндия  - это... \n",
      "\n",
      " A.  Украина \n",
      " B.  кто угодно, кто мне не нравится \n",
      " C.  очки на испанском \n",
      "\n",
      "b\n",
      "Неверно. Правильный ответ  УКРАИНА\n",
      "============================================================ \n",
      "\n",
      "\n",
      " Чужая мамка  - это... \n",
      "\n",
      " A.  объект желаний \n",
      " B.  Украина \n",
      " C.  кот, тоже на испанском \n",
      "\n",
      "b\n",
      "Неверно. Правильный ответ  ОБЪЕКТ ЖЕЛАНИЙ\n",
      "============================================================ \n",
      "\n",
      "\n",
      " El gato  - это... \n",
      "\n",
      " A.  кот, тоже на испанском \n",
      " B.  бабки \n",
      " C.  Украина \n",
      "\n",
      "c\n",
      "Неверно. Правильный ответ  КОТ, ТОЖЕ НА ИСПАНСКОМ\n",
      "============================================================ \n",
      "\n",
      "\n",
      " El gato  - это... \n",
      "\n",
      " A.  кот, тоже на испанском \n",
      " B.  кто угодно, кто мне не нравится \n",
      " C.  объект желаний \n",
      "\n",
      "1\n"
     ]
    },
    {
     "ename": "KeyError",
     "evalue": "'1'",
     "output_type": "error",
     "traceback": [
      "\u001b[1;31m---------------------------------------------------------------------------\u001b[0m",
      "\u001b[1;31mKeyError\u001b[0m                                  Traceback (most recent call last)",
      "\u001b[1;32m<ipython-input-5-432fd9e2f79a>\u001b[0m in \u001b[0;36m<module>\u001b[1;34m\u001b[0m\n\u001b[0;32m      1\u001b[0m \u001b[0mtimes\u001b[0m \u001b[1;33m=\u001b[0m \u001b[1;36m4\u001b[0m\u001b[1;33m\u001b[0m\u001b[1;33m\u001b[0m\u001b[0m\n\u001b[0;32m      2\u001b[0m \u001b[1;32mfor\u001b[0m \u001b[0mi\u001b[0m \u001b[1;32min\u001b[0m \u001b[0mrange\u001b[0m\u001b[1;33m(\u001b[0m\u001b[0mtimes\u001b[0m\u001b[1;33m)\u001b[0m\u001b[1;33m:\u001b[0m\u001b[1;33m\u001b[0m\u001b[1;33m\u001b[0m\u001b[0m\n\u001b[1;32m----> 3\u001b[1;33m     \u001b[0mquestion\u001b[0m\u001b[1;33m(\u001b[0m\u001b[1;33m)\u001b[0m\u001b[1;33m\u001b[0m\u001b[1;33m\u001b[0m\u001b[0m\n\u001b[0m",
      "\u001b[1;32m<ipython-input-4-ddd5844f8d8e>\u001b[0m in \u001b[0;36mquestion\u001b[1;34m()\u001b[0m\n\u001b[0;32m      9\u001b[0m           'C. ', new_dict['c'], '\\n')\n\u001b[0;32m     10\u001b[0m     \u001b[0manswer\u001b[0m \u001b[1;33m=\u001b[0m \u001b[0minput\u001b[0m\u001b[1;33m(\u001b[0m\u001b[1;33m)\u001b[0m\u001b[1;33m.\u001b[0m\u001b[0mlower\u001b[0m\u001b[1;33m(\u001b[0m\u001b[1;33m)\u001b[0m\u001b[1;33m\u001b[0m\u001b[1;33m\u001b[0m\u001b[0m\n\u001b[1;32m---> 11\u001b[1;33m     \u001b[1;32mif\u001b[0m \u001b[0mnew_dict\u001b[0m\u001b[1;33m[\u001b[0m\u001b[0manswer\u001b[0m\u001b[1;33m]\u001b[0m\u001b[1;33m.\u001b[0m\u001b[0mupper\u001b[0m\u001b[1;33m(\u001b[0m\u001b[1;33m)\u001b[0m \u001b[1;33m==\u001b[0m \u001b[0mdic_pic\u001b[0m\u001b[1;33m[\u001b[0m\u001b[0mterm\u001b[0m\u001b[1;33m]\u001b[0m\u001b[1;33m.\u001b[0m\u001b[0mupper\u001b[0m\u001b[1;33m(\u001b[0m\u001b[1;33m)\u001b[0m\u001b[1;33m:\u001b[0m\u001b[1;33m\u001b[0m\u001b[1;33m\u001b[0m\u001b[0m\n\u001b[0m\u001b[0;32m     12\u001b[0m         \u001b[0mprint\u001b[0m\u001b[1;33m(\u001b[0m\u001b[1;34m'Верно'\u001b[0m\u001b[1;33m)\u001b[0m\u001b[1;33m\u001b[0m\u001b[1;33m\u001b[0m\u001b[0m\n\u001b[0;32m     13\u001b[0m     \u001b[1;32melse\u001b[0m\u001b[1;33m:\u001b[0m\u001b[1;33m\u001b[0m\u001b[1;33m\u001b[0m\u001b[0m\n",
      "\u001b[1;31mKeyError\u001b[0m: '1'"
     ]
    }
   ],
   "source": [
    "times = 4\n",
    "for i in range(times):\n",
    "    question()"
   ]
  },
  {
   "cell_type": "markdown",
   "metadata": {},
   "source": [
    "# Dictionary mode"
   ]
  },
  {
   "cell_type": "code",
   "execution_count": 7,
   "metadata": {},
   "outputs": [],
   "source": [
    "import pandas as pd\n",
    "import os"
   ]
  },
  {
   "cell_type": "code",
   "execution_count": 8,
   "metadata": {},
   "outputs": [
    {
     "data": {
      "text/plain": [
       "'C:\\\\Users\\\\Lex\\\\Droching'"
      ]
     },
     "execution_count": 8,
     "metadata": {},
     "output_type": "execute_result"
    }
   ],
   "source": [
    "os.getcwd()"
   ]
  },
  {
   "cell_type": "code",
   "execution_count": 9,
   "metadata": {},
   "outputs": [
    {
     "data": {
      "text/html": [
       "<div>\n",
       "<style scoped>\n",
       "    .dataframe tbody tr th:only-of-type {\n",
       "        vertical-align: middle;\n",
       "    }\n",
       "\n",
       "    .dataframe tbody tr th {\n",
       "        vertical-align: top;\n",
       "    }\n",
       "\n",
       "    .dataframe thead th {\n",
       "        text-align: right;\n",
       "    }\n",
       "</style>\n",
       "<table border=\"1\" class=\"dataframe\">\n",
       "  <thead>\n",
       "    <tr style=\"text-align: right;\">\n",
       "      <th></th>\n",
       "      <th>pos</th>\n",
       "      <th>word</th>\n",
       "      <th>translation</th>\n",
       "    </tr>\n",
       "  </thead>\n",
       "  <tbody>\n",
       "    <tr>\n",
       "      <th>0</th>\n",
       "      <td>NaN</td>\n",
       "      <td>inteligente</td>\n",
       "      <td>умный</td>\n",
       "    </tr>\n",
       "    <tr>\n",
       "      <th>1</th>\n",
       "      <td>NaN</td>\n",
       "      <td>juntos</td>\n",
       "      <td>вместе (склоняется)</td>\n",
       "    </tr>\n",
       "    <tr>\n",
       "      <th>2</th>\n",
       "      <td>NaN</td>\n",
       "      <td>caro[a]</td>\n",
       "      <td>дорогой</td>\n",
       "    </tr>\n",
       "    <tr>\n",
       "      <th>3</th>\n",
       "      <td>NaN</td>\n",
       "      <td>barato[a]</td>\n",
       "      <td>дешевый</td>\n",
       "    </tr>\n",
       "    <tr>\n",
       "      <th>4</th>\n",
       "      <td>NaN</td>\n",
       "      <td>pasado[a]</td>\n",
       "      <td>прошлый</td>\n",
       "    </tr>\n",
       "    <tr>\n",
       "      <th>...</th>\n",
       "      <td>...</td>\n",
       "      <td>...</td>\n",
       "      <td>...</td>\n",
       "    </tr>\n",
       "    <tr>\n",
       "      <th>632</th>\n",
       "      <td>NaN</td>\n",
       "      <td>problema</td>\n",
       "      <td>проблема</td>\n",
       "    </tr>\n",
       "    <tr>\n",
       "      <th>633</th>\n",
       "      <td>NaN</td>\n",
       "      <td>lluvia</td>\n",
       "      <td>дождь</td>\n",
       "    </tr>\n",
       "    <tr>\n",
       "      <th>634</th>\n",
       "      <td>NaN</td>\n",
       "      <td>viento</td>\n",
       "      <td>ветер</td>\n",
       "    </tr>\n",
       "    <tr>\n",
       "      <th>635</th>\n",
       "      <td>NaN</td>\n",
       "      <td>nieve</td>\n",
       "      <td>снег</td>\n",
       "    </tr>\n",
       "    <tr>\n",
       "      <th>636</th>\n",
       "      <td>NaN</td>\n",
       "      <td>cielo</td>\n",
       "      <td>небо</td>\n",
       "    </tr>\n",
       "  </tbody>\n",
       "</table>\n",
       "<p>637 rows × 3 columns</p>\n",
       "</div>"
      ],
      "text/plain": [
       "     pos         word          translation\n",
       "0    NaN  inteligente                умный\n",
       "1    NaN       juntos  вместе (склоняется)\n",
       "2    NaN      caro[a]              дорогой\n",
       "3    NaN    barato[a]              дешевый\n",
       "4    NaN    pasado[a]              прошлый\n",
       "..   ...          ...                  ...\n",
       "632  NaN    problema              проблема\n",
       "633  NaN      lluvia                 дождь\n",
       "634  NaN      viento                 ветер\n",
       "635  NaN       nieve                  снег\n",
       "636  NaN       cielo                  небо\n",
       "\n",
       "[637 rows x 3 columns]"
      ]
     },
     "execution_count": 9,
     "metadata": {},
     "output_type": "execute_result"
    }
   ],
   "source": [
    "dictionary = pd.read_excel(r'C:\\Users\\Lex\\Downloads\\esp_dict.xlsx')\n",
    "dictionary"
   ]
  },
  {
   "cell_type": "code",
   "execution_count": 11,
   "metadata": {},
   "outputs": [
    {
     "data": {
      "text/html": [
       "<div>\n",
       "<style scoped>\n",
       "    .dataframe tbody tr th:only-of-type {\n",
       "        vertical-align: middle;\n",
       "    }\n",
       "\n",
       "    .dataframe tbody tr th {\n",
       "        vertical-align: top;\n",
       "    }\n",
       "\n",
       "    .dataframe thead th {\n",
       "        text-align: right;\n",
       "    }\n",
       "</style>\n",
       "<table border=\"1\" class=\"dataframe\">\n",
       "  <thead>\n",
       "    <tr style=\"text-align: right;\">\n",
       "      <th></th>\n",
       "      <th>POS</th>\n",
       "      <th>Word</th>\n",
       "      <th>Translation</th>\n",
       "    </tr>\n",
       "  </thead>\n",
       "  <tbody>\n",
       "    <tr>\n",
       "      <th>5</th>\n",
       "      <td>noun</td>\n",
       "      <td>lunes</td>\n",
       "      <td>понедельник</td>\n",
       "    </tr>\n",
       "    <tr>\n",
       "      <th>1</th>\n",
       "      <td>noun</td>\n",
       "      <td>La comida</td>\n",
       "      <td>еда, пища</td>\n",
       "    </tr>\n",
       "    <tr>\n",
       "      <th>6</th>\n",
       "      <td>noun</td>\n",
       "      <td>martes</td>\n",
       "      <td>вторник</td>\n",
       "    </tr>\n",
       "  </tbody>\n",
       "</table>\n",
       "</div>"
      ],
      "text/plain": [
       "    POS       Word  Translation\n",
       "5  noun      lunes  понедельник\n",
       "1  noun  La comida    еда, пища\n",
       "6  noun     martes      вторник"
      ]
     },
     "execution_count": 11,
     "metadata": {},
     "output_type": "execute_result"
    }
   ],
   "source": [
    "dictionary.sample(3)"
   ]
  },
  {
   "cell_type": "code",
   "execution_count": 40,
   "metadata": {},
   "outputs": [],
   "source": [
    "sample = dictionary.sample(3)\n",
    "variants = sample['Word'] #random.sample(list(dic_pic.keys()), 3)\n",
    "term = random.choice(list(variants))\n",
    "list_of_values = sample['Translation'] #[dic_pic[i] for i in variants]\n",
    "new_dict = {i:j for i,j in zip(['a', 'b', 'c'], list_of_values)}\n",
    "answer = 'b'"
   ]
  },
  {
   "cell_type": "code",
   "execution_count": 49,
   "metadata": {},
   "outputs": [
    {
     "ename": "AttributeError",
     "evalue": "'Series' object has no attribute 'upper'",
     "output_type": "error",
     "traceback": [
      "\u001b[1;31m---------------------------------------------------------------------------\u001b[0m",
      "\u001b[1;31mAttributeError\u001b[0m                            Traceback (most recent call last)",
      "\u001b[1;32m<ipython-input-49-9f65bbd5e56f>\u001b[0m in \u001b[0;36m<module>\u001b[1;34m\u001b[0m\n\u001b[1;32m----> 1\u001b[1;33m \u001b[0mdictionary\u001b[0m\u001b[1;33m[\u001b[0m\u001b[0mdictionary\u001b[0m\u001b[1;33m[\u001b[0m\u001b[1;34m'Word'\u001b[0m\u001b[1;33m]\u001b[0m\u001b[1;33m==\u001b[0m\u001b[0mterm\u001b[0m\u001b[1;33m]\u001b[0m\u001b[1;33m[\u001b[0m\u001b[1;34m'Translation'\u001b[0m\u001b[1;33m]\u001b[0m\u001b[1;33m.\u001b[0m\u001b[0mupper\u001b[0m\u001b[1;33m(\u001b[0m\u001b[1;33m)\u001b[0m\u001b[1;33m\u001b[0m\u001b[1;33m\u001b[0m\u001b[0m\n\u001b[0m",
      "\u001b[1;32m~\\anaconda3\\lib\\site-packages\\pandas\\core\\generic.py\u001b[0m in \u001b[0;36m__getattr__\u001b[1;34m(self, name)\u001b[0m\n\u001b[0;32m   5137\u001b[0m             \u001b[1;32mif\u001b[0m \u001b[0mself\u001b[0m\u001b[1;33m.\u001b[0m\u001b[0m_info_axis\u001b[0m\u001b[1;33m.\u001b[0m\u001b[0m_can_hold_identifiers_and_holds_name\u001b[0m\u001b[1;33m(\u001b[0m\u001b[0mname\u001b[0m\u001b[1;33m)\u001b[0m\u001b[1;33m:\u001b[0m\u001b[1;33m\u001b[0m\u001b[1;33m\u001b[0m\u001b[0m\n\u001b[0;32m   5138\u001b[0m                 \u001b[1;32mreturn\u001b[0m \u001b[0mself\u001b[0m\u001b[1;33m[\u001b[0m\u001b[0mname\u001b[0m\u001b[1;33m]\u001b[0m\u001b[1;33m\u001b[0m\u001b[1;33m\u001b[0m\u001b[0m\n\u001b[1;32m-> 5139\u001b[1;33m             \u001b[1;32mreturn\u001b[0m \u001b[0mobject\u001b[0m\u001b[1;33m.\u001b[0m\u001b[0m__getattribute__\u001b[0m\u001b[1;33m(\u001b[0m\u001b[0mself\u001b[0m\u001b[1;33m,\u001b[0m \u001b[0mname\u001b[0m\u001b[1;33m)\u001b[0m\u001b[1;33m\u001b[0m\u001b[1;33m\u001b[0m\u001b[0m\n\u001b[0m\u001b[0;32m   5140\u001b[0m \u001b[1;33m\u001b[0m\u001b[0m\n\u001b[0;32m   5141\u001b[0m     \u001b[1;32mdef\u001b[0m \u001b[0m__setattr__\u001b[0m\u001b[1;33m(\u001b[0m\u001b[0mself\u001b[0m\u001b[1;33m,\u001b[0m \u001b[0mname\u001b[0m\u001b[1;33m:\u001b[0m \u001b[0mstr\u001b[0m\u001b[1;33m,\u001b[0m \u001b[0mvalue\u001b[0m\u001b[1;33m)\u001b[0m \u001b[1;33m->\u001b[0m \u001b[1;32mNone\u001b[0m\u001b[1;33m:\u001b[0m\u001b[1;33m\u001b[0m\u001b[1;33m\u001b[0m\u001b[0m\n",
      "\u001b[1;31mAttributeError\u001b[0m: 'Series' object has no attribute 'upper'"
     ]
    }
   ],
   "source": [
    "dictionary[dictionary['Word']==term]['Translation'].upper()"
   ]
  },
  {
   "cell_type": "code",
   "execution_count": 18,
   "metadata": {},
   "outputs": [],
   "source": [
    "def question(dictionary):\n",
    "    sample = dictionary.sample(4)\n",
    "    variants = sample['word'] #random.sample(list(dic_pic.keys()), 3)\n",
    "    term = random.choice(list(variants))\n",
    "    list_of_values = list(sample['translation']) #[dic_pic[i] for i in variants]\n",
    "    new_dict = {i:j for i,j in zip(['a', 'b', 'c', 'd'], list_of_values)}\n",
    "    print('='*60, '\\n\\n\\n', term, ' - это...', '\\n\\n',\n",
    "          'A. ', new_dict['a'], '\\n',\n",
    "          'B. ', new_dict['b'], '\\n',\n",
    "          'C. ', new_dict['c'], '\\n',\n",
    "          'D. ', new_dict['d'], '\\n')\n",
    "    time.sleep(0)\n",
    "    answer = input().lower()\n",
    "    #print(new_dict[answer].upper())\n",
    "    #print(dictionary[dictionary['Word']==term].values[0, 2].upper() ) #['Translation'])\n",
    "    \n",
    "    if new_dict[answer].upper() == dictionary[dictionary['word']==term].values[0, 2].upper(): #dic_pic[term].upper():\n",
    "        print('Верно')\n",
    "    else:\n",
    "        print('Неверно. Правильный ответ ', dictionary[dictionary['word']==term].values[0, 2])    \n",
    "    time.sleep(0.5)"
   ]
  },
  {
   "cell_type": "code",
   "execution_count": null,
   "metadata": {},
   "outputs": [],
   "source": [
    "question(dictionary)"
   ]
  },
  {
   "cell_type": "code",
   "execution_count": 66,
   "metadata": {},
   "outputs": [
    {
     "data": {
      "text/plain": [
       "'ПОНЕДЕЛЬНИК'"
      ]
     },
     "execution_count": 66,
     "metadata": {},
     "output_type": "execute_result"
    }
   ],
   "source": [
    "dictionary[dictionary['Word']==term].values[0, 2].upper() #['Translation']"
   ]
  },
  {
   "cell_type": "code",
   "execution_count": null,
   "metadata": {},
   "outputs": [],
   "source": []
  },
  {
   "cell_type": "code",
   "execution_count": 19,
   "metadata": {},
   "outputs": [
    {
     "name": "stdout",
     "output_type": "stream",
     "text": [
      "============================================================ \n",
      "\n",
      "\n",
      " naranja   - это... \n",
      "\n",
      " A.  ухо \n",
      " B.  обычный \n",
      " C.  апельсин \n",
      " D.  муж \n",
      "\n",
      "c\n",
      "Верно\n",
      "============================================================ \n",
      "\n",
      "\n",
      " abrigo   - это... \n",
      "\n",
      " A.  пальто \n",
      " B.  неделя \n",
      " C.  январь \n",
      " D.  праздник; вечеринка \n",
      "\n",
      "a\n",
      "Верно\n",
      "============================================================ \n",
      "\n",
      "\n",
      " allá   - это... \n",
      "\n",
      " A.  туда \n",
      " B.  шумный \n",
      " C.  двенадцать \n",
      " D.  кухня \n",
      "\n",
      "a\n",
      "Верно\n",
      "============================================================ \n",
      "\n",
      "\n",
      " cuadro   - это... \n",
      "\n",
      " A.  ваш \n",
      " B.  месяц \n",
      " C.  воскресенье \n",
      " D.  картина \n",
      "\n",
      "d\n",
      "Верно\n",
      "============================================================ \n",
      "\n",
      "\n",
      " almohada   - это... \n",
      "\n",
      " A.  девять \n",
      " B.  подушка \n",
      " C.  голова \n",
      " D.  среда \n",
      "\n",
      "b\n",
      "Верно\n",
      "============================================================ \n",
      "\n",
      "\n",
      " día   - это... \n",
      "\n",
      " A.  закрывать \n",
      " B.  день \n",
      " C.  пирожное, пирожок \n",
      " D.  загорать \n",
      "\n",
      "b\n",
      "Верно\n",
      "============================================================ \n",
      "\n",
      "\n",
      " sobre  - это... \n",
      "\n",
      " A.  легко \n",
      " B.  на \n",
      " C.  конверт \n",
      " D.  больной \n",
      "\n",
      "b\n",
      "Верно\n",
      "============================================================ \n",
      "\n",
      "\n",
      " bonito   - это... \n",
      "\n",
      " A.  арбуз \n",
      " B.  красивый \n",
      " C.  банан \n",
      " D.  новый \n",
      "\n",
      "b\n",
      "Верно\n",
      "============================================================ \n",
      "\n",
      "\n",
      " enfermo[a]  - это... \n",
      "\n",
      " A.  больной \n",
      " B.  ключ \n",
      " C.  зима \n",
      " D.  до, прежде \n",
      "\n",
      "a\n",
      "Верно\n",
      "============================================================ \n",
      "\n",
      "\n",
      " agosto   - это... \n",
      "\n",
      " A.  август \n",
      " B.  зал \n",
      " C.  шесть \n",
      " D.  внимательный \n",
      "\n",
      "a\n",
      "Верно\n"
     ]
    }
   ],
   "source": [
    "times = 10\n",
    "for i in range(times):\n",
    "    question(dictionary)"
   ]
  },
  {
   "cell_type": "code",
   "execution_count": null,
   "metadata": {},
   "outputs": [],
   "source": []
  },
  {
   "cell_type": "code",
   "execution_count": 34,
   "metadata": {},
   "outputs": [],
   "source": [
    "def test_question(txt):\n",
    "    \"\"\"\n",
    "    Вопрос-парсер, которому на вход подаётся специальным образом размеченный тест\n",
    "    \"\"\"\n",
    "    with open(txt, 'rt', encoding='utf8') as file:\n",
    "        content = file.read()\n",
    "    questions = content.split('==')\n",
    "    raw_question = random.choice(questions)\n",
    "    question = raw_question.split('/*')[0]\n",
    "    variants = raw_question.split('/*')[1:] #сперва вычленяем их из сырого вопроса\n",
    "    variants = [i.replace('\\n', '') for i in variants] #затем очищаем их от ненужных преносов строки\n",
    "    variants = [i.strip() for i in variants] #затем очищаем их от ненужных пробелов\n",
    "    new_dict = {i:j.replace('(!)', '') for i,j in zip(['a', 'b', 'c', 'd'], variants)}\n",
    "    true_answer = [ans for ans in variants if '(!)' in ans][0] #пока он будет только 1 #возможно, для этого и нужен filter\n",
    "    print('='*60, '\\n', question, '\\n\\n',\n",
    "          'A. ', new_dict['a'], '\\n',\n",
    "          'B. ', new_dict['b'], '\\n',\n",
    "          'C. ', new_dict['c'], '\\n',\n",
    "          'D. ', new_dict['d'], '\\n')\n",
    "    time.sleep(0)\n",
    "    answer = input().lower()   \n",
    "    if new_dict[answer] == true_answer.replace('(!)', ''): #dic_pic[term].upper():\n",
    "        print('Верно')\n",
    "    else:\n",
    "        print('Неверно. Правильный ответ ', true_answer.replace('(!)', ''))   \n",
    "    time.sleep(0.5)"
   ]
  },
  {
   "cell_type": "code",
   "execution_count": null,
   "metadata": {},
   "outputs": [],
   "source": []
  }
 ],
 "metadata": {
  "kernelspec": {
   "display_name": "Python 3",
   "language": "python",
   "name": "python3"
  },
  "language_info": {
   "codemirror_mode": {
    "name": "ipython",
    "version": 3
   },
   "file_extension": ".py",
   "mimetype": "text/x-python",
   "name": "python",
   "nbconvert_exporter": "python",
   "pygments_lexer": "ipython3",
   "version": "3.8.5"
  }
 },
 "nbformat": 4,
 "nbformat_minor": 4
}
