{
 "cells": [
  {
   "cell_type": "code",
   "execution_count": 76,
   "metadata": {},
   "outputs": [],
   "source": [
    "import random\n",
    "import time"
   ]
  },
  {
   "cell_type": "markdown",
   "metadata": {},
   "source": [
    "# Варианты\n",
    "**Definition mode**<br>\n",
    "Это типа есть куча определений, надо выбрать верное<br>\n",
    "**Dictionary mode**<br>\n",
    "Это типа есть словарь, размеченный по частям речи. Выбрать Верный перевод<br>\n",
    "**Full test mode**<br>\n",
    "Это типа есть словарь, размеченный по частям речи. Выбрать Верный перевод<br>"
   ]
  },
  {
   "cell_type": "code",
   "execution_count": 2,
   "metadata": {},
   "outputs": [],
   "source": [
    "text = \"\"\"\n",
    "Чужая мамка - объект желаний\n",
    "\n",
    "Козёл - кто угодно, кто мне не нравится\n",
    "\n",
    "Лавэ - бабки\n",
    "\n",
    "Фуфляндия - Украина\n",
    "\n",
    "Las gafas - очки на испанском\n",
    "\n",
    "El gato - кот, тоже на испанском\n",
    "\"\"\"\n",
    "\n",
    "text = text.replace('\\n\\n', '*')\n",
    "text = text.replace('\\n', '')\n",
    "\n",
    "assert text.count(' - ') == len(text.split('*')) #проверка на число дефисов"
   ]
  },
  {
   "cell_type": "code",
   "execution_count": 3,
   "metadata": {},
   "outputs": [],
   "source": [
    "dic_pic = {i.split(' - ')[0]:i.split(' - ')[1] for i in text.split('*')}"
   ]
  },
  {
   "cell_type": "code",
   "execution_count": 10,
   "metadata": {},
   "outputs": [
    {
     "data": {
      "text/plain": [
       "{'Чужая мамка': 'объект желаний',\n",
       " 'Козёл': 'кто угодно, кто мне не нравится',\n",
       " 'Лавэ': 'бабки',\n",
       " 'Фуфляндия': 'Украина',\n",
       " 'Las gafas': 'очки на испанском',\n",
       " 'El gato': 'кот, тоже на испанском'}"
      ]
     },
     "execution_count": 10,
     "metadata": {},
     "output_type": "execute_result"
    }
   ],
   "source": [
    "dic_pic"
   ]
  },
  {
   "cell_type": "code",
   "execution_count": 4,
   "metadata": {},
   "outputs": [],
   "source": [
    "def question():\n",
    "    variants = random.sample(list(dic_pic.keys()), 3) #выбираем набор слов\n",
    "    term = random.choice(variants) #выбираем термин\n",
    "    list_of_values = [dic_pic[i] for i in variants] \n",
    "    new_dict = {i:j for i,j in zip(['a', 'b', 'c'], list_of_values)}\n",
    "    print('='*60, '\\n\\n\\n', term, ' - это...', '\\n\\n',\n",
    "          'A. ', new_dict['a'], '\\n',\n",
    "          'B. ', new_dict['b'], '\\n',\n",
    "          'C. ', new_dict['c'], '\\n')\n",
    "    answer = input().lower()\n",
    "    if new_dict[answer].upper() == dic_pic[term].upper():\n",
    "        print('Верно')\n",
    "    else:\n",
    "        print('Неверно. Правильный ответ ', dic_pic[term].upper())    "
   ]
  },
  {
   "cell_type": "code",
   "execution_count": 5,
   "metadata": {},
   "outputs": [
    {
     "name": "stdout",
     "output_type": "stream",
     "text": [
      "============================================================ \n",
      "\n",
      "\n",
      " Фуфляндия  - это... \n",
      "\n",
      " A.  Украина \n",
      " B.  кто угодно, кто мне не нравится \n",
      " C.  очки на испанском \n",
      "\n",
      "b\n",
      "Неверно. Правильный ответ  УКРАИНА\n",
      "============================================================ \n",
      "\n",
      "\n",
      " Чужая мамка  - это... \n",
      "\n",
      " A.  объект желаний \n",
      " B.  Украина \n",
      " C.  кот, тоже на испанском \n",
      "\n",
      "b\n",
      "Неверно. Правильный ответ  ОБЪЕКТ ЖЕЛАНИЙ\n",
      "============================================================ \n",
      "\n",
      "\n",
      " El gato  - это... \n",
      "\n",
      " A.  кот, тоже на испанском \n",
      " B.  бабки \n",
      " C.  Украина \n",
      "\n",
      "c\n",
      "Неверно. Правильный ответ  КОТ, ТОЖЕ НА ИСПАНСКОМ\n",
      "============================================================ \n",
      "\n",
      "\n",
      " El gato  - это... \n",
      "\n",
      " A.  кот, тоже на испанском \n",
      " B.  кто угодно, кто мне не нравится \n",
      " C.  объект желаний \n",
      "\n",
      "1\n"
     ]
    },
    {
     "ename": "KeyError",
     "evalue": "'1'",
     "output_type": "error",
     "traceback": [
      "\u001b[1;31m---------------------------------------------------------------------------\u001b[0m",
      "\u001b[1;31mKeyError\u001b[0m                                  Traceback (most recent call last)",
      "\u001b[1;32m<ipython-input-5-432fd9e2f79a>\u001b[0m in \u001b[0;36m<module>\u001b[1;34m\u001b[0m\n\u001b[0;32m      1\u001b[0m \u001b[0mtimes\u001b[0m \u001b[1;33m=\u001b[0m \u001b[1;36m4\u001b[0m\u001b[1;33m\u001b[0m\u001b[1;33m\u001b[0m\u001b[0m\n\u001b[0;32m      2\u001b[0m \u001b[1;32mfor\u001b[0m \u001b[0mi\u001b[0m \u001b[1;32min\u001b[0m \u001b[0mrange\u001b[0m\u001b[1;33m(\u001b[0m\u001b[0mtimes\u001b[0m\u001b[1;33m)\u001b[0m\u001b[1;33m:\u001b[0m\u001b[1;33m\u001b[0m\u001b[1;33m\u001b[0m\u001b[0m\n\u001b[1;32m----> 3\u001b[1;33m     \u001b[0mquestion\u001b[0m\u001b[1;33m(\u001b[0m\u001b[1;33m)\u001b[0m\u001b[1;33m\u001b[0m\u001b[1;33m\u001b[0m\u001b[0m\n\u001b[0m",
      "\u001b[1;32m<ipython-input-4-ddd5844f8d8e>\u001b[0m in \u001b[0;36mquestion\u001b[1;34m()\u001b[0m\n\u001b[0;32m      9\u001b[0m           'C. ', new_dict['c'], '\\n')\n\u001b[0;32m     10\u001b[0m     \u001b[0manswer\u001b[0m \u001b[1;33m=\u001b[0m \u001b[0minput\u001b[0m\u001b[1;33m(\u001b[0m\u001b[1;33m)\u001b[0m\u001b[1;33m.\u001b[0m\u001b[0mlower\u001b[0m\u001b[1;33m(\u001b[0m\u001b[1;33m)\u001b[0m\u001b[1;33m\u001b[0m\u001b[1;33m\u001b[0m\u001b[0m\n\u001b[1;32m---> 11\u001b[1;33m     \u001b[1;32mif\u001b[0m \u001b[0mnew_dict\u001b[0m\u001b[1;33m[\u001b[0m\u001b[0manswer\u001b[0m\u001b[1;33m]\u001b[0m\u001b[1;33m.\u001b[0m\u001b[0mupper\u001b[0m\u001b[1;33m(\u001b[0m\u001b[1;33m)\u001b[0m \u001b[1;33m==\u001b[0m \u001b[0mdic_pic\u001b[0m\u001b[1;33m[\u001b[0m\u001b[0mterm\u001b[0m\u001b[1;33m]\u001b[0m\u001b[1;33m.\u001b[0m\u001b[0mupper\u001b[0m\u001b[1;33m(\u001b[0m\u001b[1;33m)\u001b[0m\u001b[1;33m:\u001b[0m\u001b[1;33m\u001b[0m\u001b[1;33m\u001b[0m\u001b[0m\n\u001b[0m\u001b[0;32m     12\u001b[0m         \u001b[0mprint\u001b[0m\u001b[1;33m(\u001b[0m\u001b[1;34m'Верно'\u001b[0m\u001b[1;33m)\u001b[0m\u001b[1;33m\u001b[0m\u001b[1;33m\u001b[0m\u001b[0m\n\u001b[0;32m     13\u001b[0m     \u001b[1;32melse\u001b[0m\u001b[1;33m:\u001b[0m\u001b[1;33m\u001b[0m\u001b[1;33m\u001b[0m\u001b[0m\n",
      "\u001b[1;31mKeyError\u001b[0m: '1'"
     ]
    }
   ],
   "source": [
    "times = 4\n",
    "for i in range(times):\n",
    "    question()"
   ]
  },
  {
   "cell_type": "markdown",
   "metadata": {},
   "source": [
    "# Dictionary mode"
   ]
  },
  {
   "cell_type": "code",
   "execution_count": 7,
   "metadata": {},
   "outputs": [],
   "source": [
    "import pandas as pd\n",
    "import os"
   ]
  },
  {
   "cell_type": "code",
   "execution_count": 8,
   "metadata": {},
   "outputs": [
    {
     "data": {
      "text/plain": [
       "'C:\\\\Users\\\\Lex\\\\Droching'"
      ]
     },
     "execution_count": 8,
     "metadata": {},
     "output_type": "execute_result"
    }
   ],
   "source": [
    "os.getcwd()"
   ]
  },
  {
   "cell_type": "code",
   "execution_count": 9,
   "metadata": {},
   "outputs": [
    {
     "data": {
      "text/html": [
       "<div>\n",
       "<style scoped>\n",
       "    .dataframe tbody tr th:only-of-type {\n",
       "        vertical-align: middle;\n",
       "    }\n",
       "\n",
       "    .dataframe tbody tr th {\n",
       "        vertical-align: top;\n",
       "    }\n",
       "\n",
       "    .dataframe thead th {\n",
       "        text-align: right;\n",
       "    }\n",
       "</style>\n",
       "<table border=\"1\" class=\"dataframe\">\n",
       "  <thead>\n",
       "    <tr style=\"text-align: right;\">\n",
       "      <th></th>\n",
       "      <th>POS</th>\n",
       "      <th>Word</th>\n",
       "      <th>Translation</th>\n",
       "    </tr>\n",
       "  </thead>\n",
       "  <tbody>\n",
       "    <tr>\n",
       "      <th>0</th>\n",
       "      <td>noun</td>\n",
       "      <td>La vida</td>\n",
       "      <td>жизнь</td>\n",
       "    </tr>\n",
       "    <tr>\n",
       "      <th>1</th>\n",
       "      <td>noun</td>\n",
       "      <td>La comida</td>\n",
       "      <td>еда, пища</td>\n",
       "    </tr>\n",
       "    <tr>\n",
       "      <th>2</th>\n",
       "      <td>noun</td>\n",
       "      <td>La mesa</td>\n",
       "      <td>Стол</td>\n",
       "    </tr>\n",
       "    <tr>\n",
       "      <th>3</th>\n",
       "      <td>noun</td>\n",
       "      <td>El aeropuerto</td>\n",
       "      <td>Аэропорт</td>\n",
       "    </tr>\n",
       "    <tr>\n",
       "      <th>4</th>\n",
       "      <td>noun</td>\n",
       "      <td>El/la jefe</td>\n",
       "      <td>Начальник, начальница</td>\n",
       "    </tr>\n",
       "    <tr>\n",
       "      <th>5</th>\n",
       "      <td>noun</td>\n",
       "      <td>lunes</td>\n",
       "      <td>понедельник</td>\n",
       "    </tr>\n",
       "    <tr>\n",
       "      <th>6</th>\n",
       "      <td>noun</td>\n",
       "      <td>martes</td>\n",
       "      <td>вторник</td>\n",
       "    </tr>\n",
       "  </tbody>\n",
       "</table>\n",
       "</div>"
      ],
      "text/plain": [
       "    POS           Word            Translation\n",
       "0  noun        La vida                  жизнь\n",
       "1  noun      La comida              еда, пища\n",
       "2  noun        La mesa                   Стол\n",
       "3  noun  El aeropuerto               Аэропорт\n",
       "4  noun     El/la jefe  Начальник, начальница\n",
       "5  noun          lunes            понедельник\n",
       "6  noun         martes                вторник"
      ]
     },
     "execution_count": 9,
     "metadata": {},
     "output_type": "execute_result"
    }
   ],
   "source": [
    "dictionary = pd.read_excel('C:\\\\Users\\\\Lex\\\\Desktop\\\\esp_dict.xlsx')\n",
    "dictionary"
   ]
  },
  {
   "cell_type": "code",
   "execution_count": 11,
   "metadata": {},
   "outputs": [
    {
     "data": {
      "text/html": [
       "<div>\n",
       "<style scoped>\n",
       "    .dataframe tbody tr th:only-of-type {\n",
       "        vertical-align: middle;\n",
       "    }\n",
       "\n",
       "    .dataframe tbody tr th {\n",
       "        vertical-align: top;\n",
       "    }\n",
       "\n",
       "    .dataframe thead th {\n",
       "        text-align: right;\n",
       "    }\n",
       "</style>\n",
       "<table border=\"1\" class=\"dataframe\">\n",
       "  <thead>\n",
       "    <tr style=\"text-align: right;\">\n",
       "      <th></th>\n",
       "      <th>POS</th>\n",
       "      <th>Word</th>\n",
       "      <th>Translation</th>\n",
       "    </tr>\n",
       "  </thead>\n",
       "  <tbody>\n",
       "    <tr>\n",
       "      <th>5</th>\n",
       "      <td>noun</td>\n",
       "      <td>lunes</td>\n",
       "      <td>понедельник</td>\n",
       "    </tr>\n",
       "    <tr>\n",
       "      <th>1</th>\n",
       "      <td>noun</td>\n",
       "      <td>La comida</td>\n",
       "      <td>еда, пища</td>\n",
       "    </tr>\n",
       "    <tr>\n",
       "      <th>6</th>\n",
       "      <td>noun</td>\n",
       "      <td>martes</td>\n",
       "      <td>вторник</td>\n",
       "    </tr>\n",
       "  </tbody>\n",
       "</table>\n",
       "</div>"
      ],
      "text/plain": [
       "    POS       Word  Translation\n",
       "5  noun      lunes  понедельник\n",
       "1  noun  La comida    еда, пища\n",
       "6  noun     martes      вторник"
      ]
     },
     "execution_count": 11,
     "metadata": {},
     "output_type": "execute_result"
    }
   ],
   "source": [
    "dictionary.sample(3)"
   ]
  },
  {
   "cell_type": "code",
   "execution_count": 40,
   "metadata": {},
   "outputs": [],
   "source": [
    "sample = dictionary.sample(3)\n",
    "variants = sample['Word'] #random.sample(list(dic_pic.keys()), 3)\n",
    "term = random.choice(list(variants))\n",
    "list_of_values = sample['Translation'] #[dic_pic[i] for i in variants]\n",
    "new_dict = {i:j for i,j in zip(['a', 'b', 'c'], list_of_values)}\n",
    "answer = 'b'"
   ]
  },
  {
   "cell_type": "code",
   "execution_count": 49,
   "metadata": {},
   "outputs": [
    {
     "ename": "AttributeError",
     "evalue": "'Series' object has no attribute 'upper'",
     "output_type": "error",
     "traceback": [
      "\u001b[1;31m---------------------------------------------------------------------------\u001b[0m",
      "\u001b[1;31mAttributeError\u001b[0m                            Traceback (most recent call last)",
      "\u001b[1;32m<ipython-input-49-9f65bbd5e56f>\u001b[0m in \u001b[0;36m<module>\u001b[1;34m\u001b[0m\n\u001b[1;32m----> 1\u001b[1;33m \u001b[0mdictionary\u001b[0m\u001b[1;33m[\u001b[0m\u001b[0mdictionary\u001b[0m\u001b[1;33m[\u001b[0m\u001b[1;34m'Word'\u001b[0m\u001b[1;33m]\u001b[0m\u001b[1;33m==\u001b[0m\u001b[0mterm\u001b[0m\u001b[1;33m]\u001b[0m\u001b[1;33m[\u001b[0m\u001b[1;34m'Translation'\u001b[0m\u001b[1;33m]\u001b[0m\u001b[1;33m.\u001b[0m\u001b[0mupper\u001b[0m\u001b[1;33m(\u001b[0m\u001b[1;33m)\u001b[0m\u001b[1;33m\u001b[0m\u001b[1;33m\u001b[0m\u001b[0m\n\u001b[0m",
      "\u001b[1;32m~\\anaconda3\\lib\\site-packages\\pandas\\core\\generic.py\u001b[0m in \u001b[0;36m__getattr__\u001b[1;34m(self, name)\u001b[0m\n\u001b[0;32m   5137\u001b[0m             \u001b[1;32mif\u001b[0m \u001b[0mself\u001b[0m\u001b[1;33m.\u001b[0m\u001b[0m_info_axis\u001b[0m\u001b[1;33m.\u001b[0m\u001b[0m_can_hold_identifiers_and_holds_name\u001b[0m\u001b[1;33m(\u001b[0m\u001b[0mname\u001b[0m\u001b[1;33m)\u001b[0m\u001b[1;33m:\u001b[0m\u001b[1;33m\u001b[0m\u001b[1;33m\u001b[0m\u001b[0m\n\u001b[0;32m   5138\u001b[0m                 \u001b[1;32mreturn\u001b[0m \u001b[0mself\u001b[0m\u001b[1;33m[\u001b[0m\u001b[0mname\u001b[0m\u001b[1;33m]\u001b[0m\u001b[1;33m\u001b[0m\u001b[1;33m\u001b[0m\u001b[0m\n\u001b[1;32m-> 5139\u001b[1;33m             \u001b[1;32mreturn\u001b[0m \u001b[0mobject\u001b[0m\u001b[1;33m.\u001b[0m\u001b[0m__getattribute__\u001b[0m\u001b[1;33m(\u001b[0m\u001b[0mself\u001b[0m\u001b[1;33m,\u001b[0m \u001b[0mname\u001b[0m\u001b[1;33m)\u001b[0m\u001b[1;33m\u001b[0m\u001b[1;33m\u001b[0m\u001b[0m\n\u001b[0m\u001b[0;32m   5140\u001b[0m \u001b[1;33m\u001b[0m\u001b[0m\n\u001b[0;32m   5141\u001b[0m     \u001b[1;32mdef\u001b[0m \u001b[0m__setattr__\u001b[0m\u001b[1;33m(\u001b[0m\u001b[0mself\u001b[0m\u001b[1;33m,\u001b[0m \u001b[0mname\u001b[0m\u001b[1;33m:\u001b[0m \u001b[0mstr\u001b[0m\u001b[1;33m,\u001b[0m \u001b[0mvalue\u001b[0m\u001b[1;33m)\u001b[0m \u001b[1;33m->\u001b[0m \u001b[1;32mNone\u001b[0m\u001b[1;33m:\u001b[0m\u001b[1;33m\u001b[0m\u001b[1;33m\u001b[0m\u001b[0m\n",
      "\u001b[1;31mAttributeError\u001b[0m: 'Series' object has no attribute 'upper'"
     ]
    }
   ],
   "source": [
    "dictionary[dictionary['Word']==term]['Translation'].upper()"
   ]
  },
  {
   "cell_type": "code",
   "execution_count": 78,
   "metadata": {},
   "outputs": [],
   "source": [
    "def question(dictionary):\n",
    "    sample = dictionary.sample(3)\n",
    "    variants = sample['Word'] #random.sample(list(dic_pic.keys()), 3)\n",
    "    term = random.choice(list(variants))\n",
    "    list_of_values = list(sample['Translation']) #[dic_pic[i] for i in variants]\n",
    "    new_dict = {i:j for i,j in zip(['a', 'b', 'c'], list_of_values)}\n",
    "    print('='*60, '\\n\\n\\n', term, ' - это...', '\\n\\n',\n",
    "          'A. ', new_dict['a'], '\\n',\n",
    "          'B. ', new_dict['b'], '\\n',\n",
    "          'C. ', new_dict['c'], '\\n')\n",
    "    time.sleep(0)\n",
    "    answer = input().lower()\n",
    "    #print(new_dict[answer].upper())\n",
    "    #print(dictionary[dictionary['Word']==term].values[0, 2].upper() ) #['Translation'])\n",
    "    \n",
    "    if new_dict[answer].upper() == dictionary[dictionary['Word']==term].values[0, 2].upper(): #dic_pic[term].upper():\n",
    "        print('Верно')\n",
    "    else:\n",
    "        print('Неверно. Правильный ответ ', dictionary[dictionary['Word']==term].values[0, 2])    \n",
    "    time.sleep(2)"
   ]
  },
  {
   "cell_type": "code",
   "execution_count": null,
   "metadata": {},
   "outputs": [],
   "source": [
    "question(dictionary)"
   ]
  },
  {
   "cell_type": "code",
   "execution_count": 66,
   "metadata": {},
   "outputs": [
    {
     "data": {
      "text/plain": [
       "'ПОНЕДЕЛЬНИК'"
      ]
     },
     "execution_count": 66,
     "metadata": {},
     "output_type": "execute_result"
    }
   ],
   "source": [
    "dictionary[dictionary['Word']==term].values[0, 2].upper() #['Translation']"
   ]
  },
  {
   "cell_type": "code",
   "execution_count": null,
   "metadata": {},
   "outputs": [],
   "source": []
  },
  {
   "cell_type": "code",
   "execution_count": 79,
   "metadata": {},
   "outputs": [
    {
     "name": "stdout",
     "output_type": "stream",
     "text": [
      "============================================================ \n",
      "\n",
      "\n",
      " La mesa  - это... \n",
      "\n",
      " A.  Стол \n",
      " B.  Аэропорт \n",
      " C.  еда, пища \n",
      "\n",
      "b\n",
      "Неверно. Правильный ответ  Стол\n",
      "============================================================ \n",
      "\n",
      "\n",
      " El aeropuerto  - это... \n",
      "\n",
      " A.  Аэропорт \n",
      " B.  Стол \n",
      " C.  жизнь \n",
      "\n",
      "a\n",
      "Верно\n",
      "============================================================ \n",
      "\n",
      "\n",
      " La vida  - это... \n",
      "\n",
      " A.  Стол \n",
      " B.  жизнь \n",
      " C.  понедельник \n",
      "\n",
      "b\n",
      "Верно\n"
     ]
    }
   ],
   "source": [
    "times = 3\n",
    "for i in range(times):\n",
    "    question(dictionary)"
   ]
  },
  {
   "cell_type": "code",
   "execution_count": null,
   "metadata": {},
   "outputs": [],
   "source": []
  }
 ],
 "metadata": {
  "kernelspec": {
   "display_name": "Python 3",
   "language": "python",
   "name": "python3"
  },
  "language_info": {
   "codemirror_mode": {
    "name": "ipython",
    "version": 3
   },
   "file_extension": ".py",
   "mimetype": "text/x-python",
   "name": "python",
   "nbconvert_exporter": "python",
   "pygments_lexer": "ipython3",
   "version": "3.8.5"
  }
 },
 "nbformat": 4,
 "nbformat_minor": 4
}
